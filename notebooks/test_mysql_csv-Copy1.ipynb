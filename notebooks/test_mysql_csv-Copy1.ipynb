{
 "cells": [
  {
   "cell_type": "code",
   "execution_count": 21,
   "metadata": {},
   "outputs": [],
   "source": [
    "import mysql.connector\n",
    "import smtplib, ssl\n",
    "import MySQLdb as dbapi\n",
    "import csv\n",
    "import pandas as pd\n",
    "\n",
    "from email.mime.text import MIMEText\n",
    "from email.mime.multipart import MIMEMultipart\n",
    "\n",
    "#Set the Variables\n",
    "\n",
    "mysql_host=\"192.168.0.13\"\n",
    "mysql_user=\"hass_user\"\n",
    "mysql_passwd=\"Hass!Jan302020\"\n",
    "mysql_database=\"data\"\n",
    "\n",
    "sender_email = \"mqttsensor.notify@gmail.com\"\n",
    "receiver_email = \"kaushleshchandel@gmail.com\"\n",
    "password = \"Aj4A7SMf4b8QLsm4HaK5HvYK\"\n",
    "\n",
    "# Connect to the database\n",
    "mydb = mysql.connector.connect(\n",
    "  host= mysql_host,\n",
    "  user= mysql_user,\n",
    "  passwd= mysql_passwd,\n",
    "  database= mysql_database\n",
    ")\n",
    "\n",
    "mycursor = mydb.cursor()\n",
    "\n",
    "# Look for the report Folder and create required Folders\n",
    "\n",
    "mycursor.execute(\"SELECT system_datetime,value FROM sensor where sensor_id = 'sensor.outdoor_temperature' AND DATE(system_datetime) = CURDATE()\")\n",
    "\n",
    "myresult = mycursor.fetchall()\n",
    "\n",
    "c = csv.writer(open('dbdump01.csv', 'w'))\n",
    "for x in myresult:\n",
    "    c.writerow(x)\n",
    "\n",
    "del c\n",
    "\n",
    "message = MIMEMultipart(\"alternative\")\n",
    "message[\"Subject\"] = \"multipart test\"\n",
    "message[\"From\"] = sender_email\n",
    "message[\"To\"] = receiver_email\n",
    "\n",
    "\n",
    "msg = str(myresult) # message\n",
    "\n",
    "# Create secure connection with server and send email\n",
    "context = ssl.create_default_context()\n",
    "with smtplib.SMTP_SSL(\"smtp.gmail.com\", 465, context=context) as server:\n",
    "    server.login(sender_email, password)\n",
    "    server.sendmail(\n",
    "        sender_email, receiver_email, msg\n",
    "    )"
   ]
  },
  {
   "cell_type": "code",
   "execution_count": null,
   "metadata": {},
   "outputs": [],
   "source": []
  },
  {
   "cell_type": "code",
   "execution_count": null,
   "metadata": {},
   "outputs": [],
   "source": []
  },
  {
   "cell_type": "code",
   "execution_count": null,
   "metadata": {},
   "outputs": [],
   "source": []
  }
 ],
 "metadata": {
  "kernelspec": {
   "display_name": "Python 3",
   "language": "python",
   "name": "python3"
  },
  "language_info": {
   "codemirror_mode": {
    "name": "ipython",
    "version": 3
   },
   "file_extension": ".py",
   "mimetype": "text/x-python",
   "name": "python",
   "nbconvert_exporter": "python",
   "pygments_lexer": "ipython3",
   "version": "3.6.8"
  }
 },
 "nbformat": 4,
 "nbformat_minor": 4
}
