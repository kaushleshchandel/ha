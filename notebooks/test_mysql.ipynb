{
 "cells": [
  {
   "cell_type": "code",
   "execution_count": 16,
   "metadata": {},
   "outputs": [
    {
     "name": "stdout",
     "output_type": "stream",
     "text": [
      "(datetime.datetime(2020, 3, 17, 13, 36, 57), 59.2)\n",
      "(datetime.datetime(2020, 3, 17, 13, 38, 56), 58.6)\n",
      "(datetime.datetime(2020, 3, 17, 13, 39, 56), 58.5)\n",
      "(datetime.datetime(2020, 3, 17, 13, 40, 56), 58.3)\n",
      "(datetime.datetime(2020, 3, 17, 13, 42, 56), 58.5)\n",
      "(datetime.datetime(2020, 3, 17, 13, 44, 56), 58.3)\n",
      "(datetime.datetime(2020, 3, 17, 13, 45, 57), 58.5)\n",
      "(datetime.datetime(2020, 3, 17, 13, 46, 56), 58.6)\n",
      "(datetime.datetime(2020, 3, 17, 13, 49, 57), 58.3)\n",
      "(datetime.datetime(2020, 3, 17, 13, 50, 57), 57.9)\n",
      "(datetime.datetime(2020, 3, 17, 13, 52, 56), 58.1)\n",
      "(datetime.datetime(2020, 3, 17, 13, 53, 56), 58.5)\n",
      "(datetime.datetime(2020, 3, 17, 13, 54, 57), 58.6)\n",
      "(datetime.datetime(2020, 3, 17, 13, 56, 57), 58.3)\n",
      "(datetime.datetime(2020, 3, 17, 13, 57, 56), 58.1)\n",
      "(datetime.datetime(2020, 3, 17, 13, 58, 56), 58.3)\n",
      "(datetime.datetime(2020, 3, 17, 13, 59, 56), 58.5)\n",
      "(datetime.datetime(2020, 3, 17, 14, 2, 56), 58.6)\n",
      "(datetime.datetime(2020, 3, 17, 14, 3, 56), 58.8)\n",
      "(datetime.datetime(2020, 3, 17, 14, 4, 57), 59.0)\n",
      "(datetime.datetime(2020, 3, 17, 14, 6, 57), 59.2)\n",
      "(datetime.datetime(2020, 3, 17, 14, 7, 56), 59.5)\n",
      "(datetime.datetime(2020, 3, 17, 14, 9, 56), 59.7)\n",
      "(datetime.datetime(2020, 3, 17, 14, 10, 56), 59.5)\n",
      "(datetime.datetime(2020, 3, 17, 14, 11, 56), 59.4)\n",
      "(datetime.datetime(2020, 3, 17, 14, 13, 56), 59.5)\n",
      "(datetime.datetime(2020, 3, 17, 14, 14, 57), 59.7)\n",
      "(datetime.datetime(2020, 3, 17, 14, 16, 56), 59.9)\n",
      "(datetime.datetime(2020, 3, 17, 14, 19, 56), 59.7)\n",
      "(datetime.datetime(2020, 3, 17, 14, 20, 56), 59.5)\n",
      "(datetime.datetime(2020, 3, 17, 14, 22, 56), 59.7)\n",
      "(datetime.datetime(2020, 3, 17, 14, 23, 56), 59.9)\n"
     ]
    }
   ],
   "source": [
    "import mysql.connector\n",
    "\n",
    "mydb = mysql.connector.connect(\n",
    "  host=\"192.168.0.13\",\n",
    "  user=\"hass_user\",\n",
    "  passwd=\"Hass!Jan302020\",\n",
    "  database=\"data\"\n",
    ")\n",
    "\n",
    "mycursor = mydb.cursor()\n",
    "\n",
    "# Look for the report Folder and create required Folders\n",
    "\n",
    "mycursor.execute(\"SELECT system_datetime,value FROM sensor where sensor_id = 'sensor.outdoor_temperature' AND DATE(system_datetime) = CURDATE()\")\n",
    "\n",
    "myresult = mycursor.fetchall()\n",
    "\n",
    "for x in myresult:\n",
    "  print(x)"
   ]
  },
  {
   "cell_type": "code",
   "execution_count": null,
   "metadata": {},
   "outputs": [],
   "source": []
  },
  {
   "cell_type": "code",
   "execution_count": null,
   "metadata": {},
   "outputs": [],
   "source": []
  },
  {
   "cell_type": "code",
   "execution_count": null,
   "metadata": {},
   "outputs": [],
   "source": []
  },
  {
   "cell_type": "code",
   "execution_count": null,
   "metadata": {},
   "outputs": [],
   "source": []
  }
 ],
 "metadata": {
  "kernelspec": {
   "display_name": "Python 3",
   "language": "python",
   "name": "python3"
  },
  "language_info": {
   "codemirror_mode": {
    "name": "ipython",
    "version": 3
   },
   "file_extension": ".py",
   "mimetype": "text/x-python",
   "name": "python",
   "nbconvert_exporter": "python",
   "pygments_lexer": "ipython3",
   "version": "3.6.8"
  }
 },
 "nbformat": 4,
 "nbformat_minor": 4
}
