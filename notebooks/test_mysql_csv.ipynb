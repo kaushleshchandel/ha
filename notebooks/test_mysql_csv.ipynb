{
 "cells": [
  {
   "cell_type": "code",
   "execution_count": 31,
   "metadata": {},
   "outputs": [],
   "source": [
    "import mysql.connector\n",
    "import csv\n",
    "\n",
    "#Set the Variables\n",
    "mysql_host=\"192.168.0.13\"\n",
    "mysql_user=\"hass_user\"\n",
    "mysql_passwd=\"Hass!Jan302020\"\n",
    "mysql_database=\"data\"\n",
    "\n",
    "# Connect to the database\n",
    "mydb = mysql.connector.connect(\n",
    "  host= mysql_host,\n",
    "  user= mysql_user,\n",
    "  passwd= mysql_passwd,\n",
    "  database= mysql_database\n",
    ")\n",
    "\n",
    "mycursor = mydb.cursor()\n",
    "mycursor.execute(\"SELECT system_datetime,value FROM sensor where sensor_id = 'sensor.outdoor_temperature' AND DATE(system_datetime) = CURDATE()\")\n",
    "myresult = mycursor.fetchall()\n",
    "\n",
    "c = csv.writer(open('dbdump01.csv', 'w'))\n",
    "for x in myresult:\n",
    "    c.writerow(x)\n",
    "\n",
    "del c\n"
   ]
  },
  {
   "cell_type": "code",
   "execution_count": null,
   "metadata": {},
   "outputs": [],
   "source": []
  },
  {
   "cell_type": "code",
   "execution_count": null,
   "metadata": {},
   "outputs": [],
   "source": []
  },
  {
   "cell_type": "code",
   "execution_count": null,
   "metadata": {},
   "outputs": [],
   "source": []
  }
 ],
 "metadata": {
  "kernelspec": {
   "display_name": "Python 3",
   "language": "python",
   "name": "python3"
  },
  "language_info": {
   "codemirror_mode": {
    "name": "ipython",
    "version": 3
   },
   "file_extension": ".py",
   "mimetype": "text/x-python",
   "name": "python",
   "nbconvert_exporter": "python",
   "pygments_lexer": "ipython3",
   "version": "3.6.8"
  }
 },
 "nbformat": 4,
 "nbformat_minor": 4
}
